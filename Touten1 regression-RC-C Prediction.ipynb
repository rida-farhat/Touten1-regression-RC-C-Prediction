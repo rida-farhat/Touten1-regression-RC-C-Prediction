{
 "cells": [
  {
   "cell_type": "markdown",
   "id": "26beb169",
   "metadata": {},
   "source": [
    "# Touten1 regression-RC-C Prediction"
   ]
  },
  {
   "cell_type": "markdown",
   "id": "a7224bc4",
   "metadata": {},
   "source": [
    "# Import Libraries"
   ]
  },
  {
   "cell_type": "code",
   "execution_count": null,
   "id": "47f0a92f",
   "metadata": {},
   "outputs": [],
   "source": [
    "import pandas as pd\n",
    "import numpy as np\n",
    "import time\n",
    "import matplotlib.pyplot as plt\n",
    "import plotly.express as px # for data visualization\n",
    "from sklearn.preprocessing import StandardScaler\n",
    "from sklearn.model_selection import train_test_split\n",
    "from tqdm import tqdm \n",
    "import warnings\n",
    "import seaborn as sns\n",
    "from sklearn.metrics import mean_squared_error\n",
    "from sklearn.metrics import r2_score\n",
    "from sklearn.metrics import mean_absolute_error\n",
    "%matplotlib inline "
   ]
  },
  {
   "cell_type": "code",
   "execution_count": null,
   "id": "4d51249c",
   "metadata": {},
   "outputs": [],
   "source": [
    "def loadmodel (data):\n",
    "    data='C:\\Users\\Kaoelg01\\Documents\\Workload1\\design_training\\RC\\IDT_MASTER_raw.csv'\n",
    "    "
   ]
  },
  {
   "cell_type": "markdown",
   "id": "84e2f366",
   "metadata": {},
   "source": [
    "# Preprocessing"
   ]
  },
  {
   "cell_type": "code",
   "execution_count": null,
   "id": "c5fd91af",
   "metadata": {},
   "outputs": [],
   "source": [
    "#define dataset\n",
    "\n",
    "df = pd.read_csv(r'C:\\Users\\Kaoelg01\\Documents\\Workload1\\design_training\\RC\\IDT_MASTER_raw.csv')\n",
    "\n",
    "\n",
    "#Remove duplicates\n",
    "\n",
    "df.drop_duplicates(keep = False, inplace = True)\n",
    "\n",
    "\n",
    "#Drop the missing values in the data\n",
    "\n",
    "df=df.dropna()\n"
   ]
  },
  {
   "cell_type": "code",
   "execution_count": null,
   "id": "fb317ab6",
   "metadata": {},
   "outputs": [],
   "source": [
    "df.shape"
   ]
  },
  {
   "cell_type": "code",
   "execution_count": null,
   "id": "37e453f8",
   "metadata": {},
   "outputs": [],
   "source": [
    "### Removing Outliers ###\n",
    "### We used here z-score technique ###\n",
    "\n",
    "# Plot the Distribution plots for the features\n",
    "\n",
    "warnings.filterwarnings('ignore')\n",
    "plt.figure(figsize=(16,5))\n",
    "plt.subplot(1,2,1)\n",
    "sns.distplot(df['Aprisa_max_total_cap'])\n",
    "\n",
    "\n",
    "# Finding the Boundary Values (1 standard deviation)\n",
    "\n",
    "high=df['Aprisa_max_total_cap'].mean() + df['Aprisa_max_total_cap'].std()\n",
    "low=df['Aprisa_max_total_cap'].mean() - df['Aprisa_max_total_cap'].std()\n",
    "print(\"Highest allowed\", high)\n",
    "print(\"Lowest allowed\",low)\n",
    "\n",
    "\n",
    "# Finding the Outliers and dropping them\n",
    "\n",
    "df[(df['Aprisa_max_total_cap'] > high) | (df['Aprisa_max_total_cap'] < low)]\n",
    "df.drop(df[(df['Aprisa_max_total_cap'] > high) | (df['Aprisa_max_total_cap'] < low)].index, inplace = True)\n",
    "\n",
    "\n",
    "## Capping on Outliers\n",
    "# In this technique, we cap our outliers data and make the limit i.e, above a particular value or less than that value, \n",
    "#all the values will be considered as outliers, and the number of outliers in the dataset gives that capping number.\n",
    "\n",
    "upper_limit = df['Aprisa_max_total_cap'].mean() + 1.5*df['Aprisa_max_total_cap'].std()\n",
    "lower_limit = df['Aprisa_max_total_cap'].mean() - 1.5*df['Aprisa_max_total_cap'].std()\n",
    "\n",
    "\n",
    "## Apply the Capping\n",
    "\n",
    "df['Aprisa_max_total_cap'] = np.where(\n",
    "    df['Aprisa_max_total_cap']>upper_limit,\n",
    "    upper_limit,\n",
    "    np.where(\n",
    "        df['Aprisa_max_total_cap']<lower_limit,\n",
    "        lower_limit,\n",
    "        df['Aprisa_max_total_cap']\n",
    "    )\n",
    ")\n",
    "\n",
    "\n",
    "# See the statistics using “Describe” Function\n",
    "\n",
    "df['Aprisa_max_total_cap'].describe()"
   ]
  },
  {
   "cell_type": "code",
   "execution_count": null,
   "id": "8ef912c2",
   "metadata": {},
   "outputs": [],
   "source": [
    "# split a dataset into train and test sets\n",
    "#The train-test split is a technique for evaluating the performance of a machine learning algorithm\n",
    "#Train Dataset: Used to fit the machine learning model./ Test Dataset: Used to evaluate the fit machine learning model.\n",
    "\n",
    "X = df.drop(['full_name','net_name','from_pin','to_pin'], axis=1)\n",
    "y = df['Aprisa_max_total_cap'] "
   ]
  },
  {
   "cell_type": "markdown",
   "id": "8df2a57c",
   "metadata": {},
   "source": [
    "# Linear Regression"
   ]
  },
  {
   "cell_type": "code",
   "execution_count": null,
   "id": "9e65cfb0",
   "metadata": {},
   "outputs": [],
   "source": [
    "X_train, X_test, y_train, y_test = train_test_split(X, y, test_size=0.25, random_state=42)"
   ]
  },
  {
   "cell_type": "code",
   "execution_count": null,
   "id": "c75ba8f6",
   "metadata": {},
   "outputs": [],
   "source": [
    "from sklearn.linear_model import LinearRegression\n",
    "\n",
    "lm = LinearRegression()\n",
    "lm.fit(X_train, y_train)\n",
    "\n",
    "\n",
    "y_pred_from_sklearn = lm.predict(X_test)\n",
    "\n",
    "plt.scatter(y_test, y_pred_from_sklearn)\n",
    "plt.xlabel(\"capacitance: $y_i$\")\n",
    "plt.ylabel(\"Predicted capacitance: $\\hat{y}_i$\")\n",
    "plt.title(\"total capacitance vs Predicted capacitance: $Y_i$ vs $\\hat{y}_i$\")\n",
    "plt.show()"
   ]
  },
  {
   "cell_type": "code",
   "execution_count": null,
   "id": "4a419d78",
   "metadata": {},
   "outputs": [],
   "source": [
    "mae = mean_absolute_error(y_test, y_pred_from_sklearn)\n",
    "final_mse = mean_squared_error(y_test, y_pred_from_sklearn)\n",
    "final_rmse = np.sqrt(final_mse)\n",
    "print('MAE: %.3f' % mae)\n",
    "print('Finale_MSE: %.3f' % final_mse)\n",
    "print('Finale_RMSE: %.3f' % final_rmse)"
   ]
  },
  {
   "cell_type": "markdown",
   "id": "391bbece",
   "metadata": {},
   "source": [
    "# Decision Tree"
   ]
  },
  {
   "cell_type": "code",
   "execution_count": null,
   "id": "9eb3396d",
   "metadata": {},
   "outputs": [],
   "source": [
    "from sklearn.tree import DecisionTreeRegressor\n",
    "model = DecisionTreeRegressor(random_state=44)\n",
    "model.fit(X_train, y_train)\n",
    "predictions = model.predict(X_test)"
   ]
  },
  {
   "cell_type": "code",
   "execution_count": null,
   "id": "ba0c75c9",
   "metadata": {},
   "outputs": [],
   "source": [
    "plt.scatter(y_test, predictions)\n",
    "plt.xlabel(\"capacitance: $y_i$\")\n",
    "plt.ylabel(\"Predicted capacitance: $\\hat{y}_i$\")\n",
    "plt.title(\"total capacitance vs Predicted capacitance: $Y_i$ vs $\\hat{y}_i$\")\n",
    "plt.show()"
   ]
  },
  {
   "cell_type": "code",
   "execution_count": null,
   "id": "113418d3",
   "metadata": {},
   "outputs": [],
   "source": [
    "mae = mean_absolute_error(y_test, predictions)\n",
    "final_mse = mean_squared_error(y_test, predictions)\n",
    "final_rmse = np.sqrt(final_mse)\n",
    "print('MAE: %.3f' % mae)\n",
    "print('Finale_MSE: %.3f' % final_mse)\n",
    "print('Finale_RMSE: %.3f' % final_rmse)"
   ]
  },
  {
   "cell_type": "markdown",
   "id": "40461234",
   "metadata": {},
   "source": [
    "# Support Vector Regression"
   ]
  },
  {
   "cell_type": "code",
   "execution_count": null,
   "id": "5836dc96",
   "metadata": {},
   "outputs": [],
   "source": [
    "from sklearn.svm import SVR\n",
    "\n",
    "# generate a model that fit the dataset used for training it\n",
    "SVR = SVR(C=1000.0, epsilon=0.2)\n",
    "SVR.fit(X_train, y_train)\n",
    "\n",
    "\n",
    "# try to predict\n",
    "y_pred = SVR.predict(X_test)\n",
    "yhat_train = SVR.predict(X_train)\n",
    "yhat_test = SVR.predict(X_test)\n",
    "\n",
    "\n",
    "plt.scatter(y_test, yhat_test)\n",
    "plt.xlabel(\"capacitance: $y_i$\")\n",
    "plt.ylabel(\"Predicted capacitance: $\\hat{y}_i$\")\n",
    "plt.title(\"total capacitance vs Predicted capacitance: $Y_i$ vs $\\hat{y}_i$\")\n",
    "plt.show()"
   ]
  },
  {
   "cell_type": "code",
   "execution_count": null,
   "id": "5f2d1747",
   "metadata": {},
   "outputs": [],
   "source": [
    "mae = mean_absolute_error(y_test, yhat_test)\n",
    "final_mse = mean_squared_error(y_test, yhat_test)\n",
    "final_rmse = np.sqrt(final_mse)\n",
    "print('MAE: %.3f' % mae)\n",
    "print('Finale_MSE: %.3f' % final_mse)\n",
    "print('Finale_RMSE: %.3f' % final_rmse)"
   ]
  },
  {
   "cell_type": "markdown",
   "id": "bf7cf110",
   "metadata": {},
   "source": [
    "# Random Forest Regressor"
   ]
  },
  {
   "cell_type": "code",
   "execution_count": null,
   "id": "82d877b8",
   "metadata": {},
   "outputs": [],
   "source": [
    "# Fitting Random Forest Regression to the dataset \n",
    "# import the regressor \n",
    "from sklearn.ensemble import RandomForestRegressor\n",
    "\n",
    "# create regressor object \n",
    "regressor = RandomForestRegressor(n_estimators = 100, random_state = 0)\n",
    "\n",
    "# fit the regressor with x and y data \n",
    "regressor.fit(X_train, y_train)\n",
    "\n",
    "#Predict Results\n",
    "ypred = regressor.predict(X_test)\n",
    "\n",
    "x_ax = range(len(y_test))\n",
    "plt.plot(x_ax, y_test, linewidth=1, label=\"original\")\n",
    "plt.plot(x_ax, ypred, linewidth=1.1, label=\"predicted\")\n",
    "plt.title(\"y-test and y-predicted data\")\n",
    "plt.xlabel('X-axis')\n",
    "plt.ylabel('Y-axis')\n",
    "plt.legend(loc='best',fancybox=True, shadow=True)\n",
    "plt.grid(True)\n",
    "plt.show() "
   ]
  },
  {
   "cell_type": "code",
   "execution_count": null,
   "id": "0229f936",
   "metadata": {},
   "outputs": [],
   "source": [
    "plt.scatter(y_test, ypred)\n",
    "plt.xlabel(\"capacitance: $y_i$\")\n",
    "plt.ylabel(\"Predicted capacitance: $\\hat{y}_i$\")\n",
    "plt.title(\"total capacitance vs Predicted capacitance: $Y_i$ vs $\\hat{y}_i$\")\n",
    "plt.show()"
   ]
  },
  {
   "cell_type": "code",
   "execution_count": null,
   "id": "183bf83e",
   "metadata": {},
   "outputs": [],
   "source": [
    "mae = mean_absolute_error(y_test, yhat_test)\n",
    "final_mse = mean_squared_error(y_test, yhat_test)\n",
    "final_rmse = np.sqrt(final_mse)\n",
    "print('MAE: %.3f' % mae)\n",
    "print('Finale_MSE: %.3f' % final_mse)\n",
    "print('Finale_RMSE: %.3f' % final_rmse)"
   ]
  },
  {
   "cell_type": "markdown",
   "id": "708be86c",
   "metadata": {},
   "source": [
    "# KNeighbors Regressor"
   ]
  },
  {
   "cell_type": "code",
   "execution_count": null,
   "id": "35a0173d",
   "metadata": {},
   "outputs": [],
   "source": [
    "from sklearn.neighbors import KNeighborsRegressor\n",
    "fig,ax=plt.subplots(figsize=(10,10))\n",
    "k_list=np.arange(1,80,1)\n",
    "knn_dict={} # To store k and mse pairs\n",
    "for i in k_list:\n",
    "#Knn Model Creation\n",
    "    knn=KNeighborsRegressor(n_neighbors=int(i))\n",
    "    model_knn=knn.fit(X_train,y_train)\n",
    "    Y_knn_pred=model_knn.predict(X_test)\n",
    "#Storing MSE \n",
    "    mse=mean_squared_error(y_test,Y_knn_pred)\n",
    "    knn_dict[i]=mse\n",
    "#Plotting the results\n",
    "ax.plot(knn_dict.keys(),knn_dict.values())\n",
    "ax.set_xlabel('K-VALUE', fontsize=20)\n",
    "ax.set_ylabel('MSE' ,fontsize=20)\n",
    "ax.set_title('ELBOW PLOT' ,fontsize=28)"
   ]
  },
  {
   "cell_type": "code",
   "execution_count": null,
   "id": "6d19b981",
   "metadata": {},
   "outputs": [],
   "source": [
    "a_list=list(knn_dict.keys())\n",
    "b_list=list(knn_dict.values())\n",
    "i = np.argmin(b_list)\n",
    "x_min = a_list[i]\n",
    "y_min = b_list[i]\n",
    "plt.plot(x_min, y_min, marker='o')"
   ]
  },
  {
   "cell_type": "code",
   "execution_count": null,
   "id": "64fbfdee",
   "metadata": {},
   "outputs": [],
   "source": [
    "knn_model = KNeighborsRegressor(n_neighbors=7)\n",
    "knn_model.fit(X_train, y_train)\n",
    "Y_knn_pred = knn_model.predict(X_test)\n",
    "plt.scatter(y_test, Y_knn_pred)\n",
    "plt.xlabel(\"capacitance: $y_i$\")\n",
    "plt.ylabel(\"Predicted capacitance: $\\hat{y}_i$\")\n",
    "plt.title(\"total capacitance vs Predicted capacitance: $Y_i$ vs $\\hat{y}_i$\")\n",
    "plt.show()"
   ]
  },
  {
   "cell_type": "code",
   "execution_count": null,
   "id": "7c6d1f61",
   "metadata": {},
   "outputs": [],
   "source": [
    "mae = mean_absolute_error(y_test, yhat_test)\n",
    "final_mse = mean_squared_error(y_test, yhat_test)\n",
    "final_rmse = np.sqrt(final_mse)\n",
    "print('MAE: %.3f' % mae)\n",
    "print('Finale_MSE: %.3f' % final_mse)\n",
    "print('Finale_RMSE: %.3f' % final_rmse)"
   ]
  },
  {
   "cell_type": "code",
   "execution_count": null,
   "id": "972af71e",
   "metadata": {},
   "outputs": [],
   "source": []
  }
 ],
 "metadata": {
  "kernelspec": {
   "display_name": "Python 3 (ipykernel)",
   "language": "python",
   "name": "python3"
  },
  "language_info": {
   "codemirror_mode": {
    "name": "ipython",
    "version": 3
   },
   "file_extension": ".py",
   "mimetype": "text/x-python",
   "name": "python",
   "nbconvert_exporter": "python",
   "pygments_lexer": "ipython3",
   "version": "3.9.7"
  }
 },
 "nbformat": 4,
 "nbformat_minor": 5
}
